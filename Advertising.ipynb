{
 "cells": [
  {
   "cell_type": "code",
   "execution_count": 7,
   "metadata": {},
   "outputs": [],
   "source": [
    "import pandas as pd\n",
    "from sklearn.preprocessing import StandardScaler\n",
    "from sklearn.linear_model import LinearRegression\n",
    "import streamlit as st\n",
    "ad = pd.read_csv(\n",
    "    filepath_or_buffer=\"D:\\ITC School\\Programming Data Science\\ppdo11/Advertising Budget and Sales.csv\",\n",
    "    index_col=[0],\n",
    ")\n",
    "columns = [\"tv\", \"radio\", \"news\", \"sales\"]\n",
    "ad.columns=columns\n",
    "dict_scaler = dict()\n",
    "for col in columns:\n",
    "    dict_scaler[col] = StandardScaler().fit(ad[[col]])\n",
    "df = ad.copy()\n",
    "for col in columns:\n",
    "    df[col] = dict_scaler[col].transform(X=ad[[col]])\n",
    "target = \"sales\"\n",
    "features = df.columns.to_list()\n",
    "features.remove(target)\n",
    "X = df[features].values\n",
    "y = df[target].values\n",
    "robot = LinearRegression().fit(X=X, y=y)\n",
    "st.title(body=\"Predict Sales by Advertisement Types\")\n",
    "st.number_input(label=\"tv\")\n",
    "user_input = dict()\n",
    "for col in columns:\n",
    "   user_input[col] = st.number_input(label=col, value=ad[col].mean())\n",
    "st.write(user_input)"
   ]
  },
  {
   "cell_type": "code",
   "execution_count": null,
   "metadata": {},
   "outputs": [],
   "source": []
  }
 ],
 "metadata": {
  "kernelspec": {
   "display_name": "Python 3",
   "language": "python",
   "name": "python3"
  },
  "language_info": {
   "codemirror_mode": {
    "name": "ipython",
    "version": 3
   },
   "file_extension": ".py",
   "mimetype": "text/x-python",
   "name": "python",
   "nbconvert_exporter": "python",
   "pygments_lexer": "ipython3",
   "version": "3.11.5"
  }
 },
 "nbformat": 4,
 "nbformat_minor": 2
}
